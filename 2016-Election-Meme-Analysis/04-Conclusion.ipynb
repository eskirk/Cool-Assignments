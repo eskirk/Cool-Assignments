{
 "cells": [
  {
   "cell_type": "markdown",
   "metadata": {
    "collapsed": true
   },
   "source": [
    "# <center>Conclusion"
   ]
  },
  {
   "cell_type": "markdown",
   "metadata": {},
   "source": [
    "# <center>Touching back on those questions from earlier...</center>\n",
    "> - <b>Where do most of these memes come from and which candidate was most successful in the meme economy?</b>\n",
    ">> The most successful candidate (in terms of memes) was definitely Donald Trump. Both by having memes en masse and by securing the highest average likes on his memes, he obviously has some deep understanding of meme magic.\n",
    "\n",
    "> - <b>Is there anything interesting to note about the content of these memes?</b>\n",
    ">> They are all pretty low quality, but most memes are. THe interesting part about these memes is that many of them are targeting a candidate quite negatively. \n",
    "\n",
    "> - <b>Are there any common traits amongst memes describing each candidate?</b>\n",
    ">> Absolutely. Many of the candidates catch phrases, memorable moments, traits etc. are all captured in this analysis.\n",
    ">> By capturing the most common phrases, we get a glimpse into the mind of a memer. What are the generic qualities of a 'Trump meme'? At face value, many of us probably have a good idea as to what constitutes a meme about Donald Trump, but capturing that and associating a mathematical value with something as abstract as a meme, that's something else."
   ]
  },
  {
   "cell_type": "markdown",
   "metadata": {},
   "source": [
    "# <center>Things to Improve Upon?</center>\n",
    "\n",
    "> I would love to expand this project at some point in the future. Most notably, associating the 'like' values with the weights somehow. Maybe finding the most common phrases that are associated with the best memes? The posibilites are endless but I have other finals to prepare for. "
   ]
  },
  {
   "cell_type": "markdown",
   "metadata": {},
   "source": [
    "# <center>Thank you for listening!</center>"
   ]
  },
  {
   "cell_type": "markdown",
   "metadata": {},
   "source": [
    "![](http://media0.giphy.com/media/26FPr0GKKPaPiUbbG/200_s.gif)"
   ]
  }
 ],
 "metadata": {
  "kernelspec": {
   "display_name": "Python 3",
   "language": "python",
   "name": "python3"
  },
  "language_info": {
   "codemirror_mode": {
    "name": "ipython",
    "version": 3
   },
   "file_extension": ".py",
   "mimetype": "text/x-python",
   "name": "python",
   "nbconvert_exporter": "python",
   "pygments_lexer": "ipython3",
   "version": "3.5.2"
  }
 },
 "nbformat": 4,
 "nbformat_minor": 2
}
