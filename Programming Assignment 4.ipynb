{
 "cells": [
  {
   "cell_type": "markdown",
   "metadata": {},
   "source": [
    "# Programming Assignment 4 - Dynamic Programming"
   ]
  },
  {
   "cell_type": "markdown",
   "metadata": {},
   "source": [
    "#### Definition\n",
    "> T[ i, j ] = the max value path possible from (and including) A[ i, j ]\n",
    "\n",
    "#### Formula\n",
    "> T[ i, j ] = max{ T[ i + 1, j ] + A[ i, j ], T[ i, j + 1 ] + A[ i, j ] }\n",
    "\n",
    "#### Base Cases\n",
    "> T[ n, j ] = 0\n",
    "> T[ i, m ] = 0\n",
    "\n",
    "#### Solution\n",
    "> max{ T[ i, j ] }"
   ]
  },
  {
   "cell_type": "markdown",
   "metadata": {},
   "source": [
    "### Recursive Function"
   ]
  },
  {
   "cell_type": "code",
   "execution_count": 147,
   "metadata": {
    "collapsed": false
   },
   "outputs": [],
   "source": [
    "# A: The value board, the grid we must traverse and find the max value path\n",
    "# T: The table where we store the max value path possible from A[i, j] into T[i, j]\n",
    "# F: Whether or not a given value has been filled (1 for filled, 0 for empty)\n",
    "# i: Row index\n",
    "# j: Column index\n",
    "\n",
    "def max_path(A, T, F, i, j):\n",
    "    if i == A.shape[0] or j == A.shape[1]:\n",
    "        return 0\n",
    "    if F[i, j] == 0:\n",
    "        T[i, j] = max(max_path(A, T, F, i + 1, j) + A[i, j], max_path(A, T, F, i, j + 1) + A[i, j])\n",
    "        F[i, j] = 1\n",
    "    return T[i, j]"
   ]
  },
  {
   "cell_type": "markdown",
   "metadata": {},
   "source": [
    "### Parse the text file"
   ]
  },
  {
   "cell_type": "code",
   "execution_count": 172,
   "metadata": {
    "collapsed": false
   },
   "outputs": [],
   "source": [
    "import numpy as np\n",
    "import time\n",
    "\n",
    "A = []\n",
    "\n",
    "with open('test.txt') as file:\n",
    "    n = next(file)\n",
    "    m = next(file)\n",
    "    lines = [line.split() for line in file]\n",
    "    for line in lines:\n",
    "        line = [int(i) for i in line]\n",
    "        A.append(line)\n",
    "    \n",
    "T = np.zeros(shape = (int(n), int(m)))\n",
    "F = np.zeros(shape = (int(n), int(m)))\n",
    "A = np.array(A)"
   ]
  },
  {
   "cell_type": "markdown",
   "metadata": {},
   "source": [
    "### Solution"
   ]
  },
  {
   "cell_type": "code",
   "execution_count": 174,
   "metadata": {
    "collapsed": false
   },
   "outputs": [],
   "source": [
    "start = time.time()\n",
    "max_path(A, T, F, 0, 0)\n",
    "elapsed = time.time() - start"
   ]
  },
  {
   "cell_type": "code",
   "execution_count": 175,
   "metadata": {
    "collapsed": false
   },
   "outputs": [
    {
     "name": "stdout",
     "output_type": "stream",
     "text": [
      "Max: 492.0\n",
      "Found in 0.0004210472106933594 seconds\n"
     ]
    }
   ],
   "source": [
    "print('Max:', T.max())\n",
    "print('Found in', elapsed, 'seconds')"
   ]
  },
  {
   "cell_type": "code",
   "execution_count": null,
   "metadata": {
    "collapsed": true
   },
   "outputs": [],
   "source": []
  }
 ],
 "metadata": {
  "anaconda-cloud": {},
  "kernelspec": {
   "display_name": "Python [default]",
   "language": "python",
   "name": "python3"
  },
  "language_info": {
   "codemirror_mode": {
    "name": "ipython",
    "version": 3
   },
   "file_extension": ".py",
   "mimetype": "text/x-python",
   "name": "python",
   "nbconvert_exporter": "python",
   "pygments_lexer": "ipython3",
   "version": "3.5.2"
  }
 },
 "nbformat": 4,
 "nbformat_minor": 1
}
